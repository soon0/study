{
 "cells": [
  {
   "cell_type": "code",
   "execution_count": 1,
   "metadata": {},
   "outputs": [
    {
     "name": "stdout",
     "output_type": "stream",
     "text": [
      "1.12.0\n"
     ]
    }
   ],
   "source": [
    "import numpy as np\n",
    "import matplotlib.pyplot as plt\n",
    "%matplotlib inline\n",
    "\n",
    "import tensorflow as tf  # tensorflow \n",
    "import tensorflow.contrib.eager as tfe  # tensorflow eager 모드 import\n",
    " \n",
    "tf.enable_eager_execution()  # eager 모드 활성화\n",
    "tf.set_random_seed(777)  # seed 고정\n",
    "\n",
    "print(tf.__version__)  # 텐서플로 버전 확인"
   ]
  },
  {
   "cell_type": "code",
   "execution_count": 2,
   "metadata": {},
   "outputs": [
    {
     "data": {
      "image/png": "99. 01_01",
      "text/plain": [
       "<Figure size 432x288 with 1 Axes>"
      ]
     },
     "metadata": {
      "needs_background": "light"
     },
     "output_type": "display_data"
    }
   ],
   "source": [
    "# 데이터 준비\n",
    "\n",
    "x_data = [[0, 0],\n",
    "          [0, 1],\n",
    "          [1, 0],\n",
    "          [1, 1]]\n",
    "y_data = [[0],\n",
    "          [1],\n",
    "          [1],\n",
    "          [0]]\n",
    "\n",
    "plt.scatter(x_data[0][0],x_data[0][1], c='red' , marker='^')\n",
    "plt.scatter(x_data[3][0],x_data[3][1], c='red' , marker='^')\n",
    "plt.scatter(x_data[1][0],x_data[1][1], c='blue' , marker='^')\n",
    "plt.scatter(x_data[2][0],x_data[2][1], c='blue' , marker='^')\n",
    "\n",
    "plt.xlabel(\"x1\")\n",
    "plt.ylabel(\"x2\")\n",
    "plt.show()"
   ]
  },
  {
   "cell_type": "code",
   "execution_count": 3,
   "metadata": {},
   "outputs": [],
   "source": [
    "# tensorflow data api를 통해 학습시킬 값 담아줌\n",
    "## .batch() : 한번에 학습시킬 사이즈(batch size) 조정\n",
    "dataset = tf.data.Dataset.from_tensor_slices((x_data, y_data)).batch(len(x_data))\n",
    "\n",
    "# 데이터 전처리 int -> float\n",
    "def preprocess_data(features, labels):\n",
    "    features = tf.cast(features, tf.float32)\n",
    "    labels = tf.cast(labels, tf.float32)\n",
    "    return features, labels"
   ]
  },
  {
   "cell_type": "code",
   "execution_count": 4,
   "metadata": {},
   "outputs": [],
   "source": [
    "# weight(가중치), bias(계수)\n",
    "## 랜덤으로 정해줌\n",
    "\n",
    "W1 = tf.Variable(tf.random_normal([2,1]), name='weight1')\n",
    "b1 = tf.Variable(tf.random_normal([1]), name='bias1')\n",
    "\n",
    "W2 = tf.Variable(tf.random_normal([2,1]), name='weight2')\n",
    "b2 = tf.Variable(tf.random_normal([1]), name= 'bias1')\n",
    "\n",
    "W3 = tf.Variable(tf.random_normal([2,1]), name='weight3')\n",
    "b3 = tf.Variable(tf.random_normal([1]), name='bias3')"
   ]
  },
  {
   "attachments": {
    "image.png": {
     "image/png": "99. 01_01"
    }
   },
   "cell_type": "markdown",
   "metadata": {},
   "source": [
    "![image.png](attachment:image.png)"
   ]
  },
  {
   "cell_type": "code",
   "execution_count": 12,
   "metadata": {},
   "outputs": [],
   "source": [
    "# nural network 생성\n",
    "def neural_net(features):\n",
    "    layer1 = tf.sigmoid(tf.matmul(features, W1) + b1)  # 1층 1번 로지스틱\n",
    "    layer2 = tf.sigmoid(tf.matmul(features, W2) + b2)  # 1층 2번 로지스틱\n",
    "    layer3 = tf.concat([layer1, layer2], -1)  # 2층 만들기 위해 1층 합치기 axis는 -1\n",
    "    layer3 = tf.reshape(layer3, shape=[-1,2])  # 2층 만들기 위해 shape 변경\n",
    "    hypothesis = tf.sigmoid(tf.matmul(layer3, W3) + b3)  # 2층 로지스틱\n",
    "    return hypothesis\n",
    "\n",
    "# 손실 함수 생성\n",
    "def loss_fn(hypothesis, labels):\n",
    "    cost = -tf.reduce_mean(labels * tf.log(hypothesis) + (1-labels) * tf.log(1-hypothesis))\n",
    "    return cost\n",
    "\n",
    "# optimizer는 경사하강법으로 학습률 0.01 지정\n",
    "optimizer = tf.train.GradientDescentOptimizer(learning_rate=0.01)\n",
    "\n",
    "# 정확도 출력\n",
    "def accuracy_fn(hypothesis, labels):\n",
    "    predicted = tf.cast(hypothesis > 0.5, dtype=tf.float32)\n",
    "    accuracy = tf.reduce_mean(tf.cast(tf.equal(predicted, labels), dtype=tf.float32))\n",
    "    return accuracy\n",
    "\n",
    "# 경사하강법으로 최적 기울기, 계수 찾기\n",
    "def grad(hypothesis, features, labels):\n",
    "    with tf.GradientTape() as tape:\n",
    "        loss_value = loss_fn(neural_net(features),labels)\n",
    "    return tape.gradient(loss_value, [W1, W2, W3, b1, b2, b3])"
   ]
  },
  {
   "cell_type": "code",
   "execution_count": 15,
   "metadata": {},
   "outputs": [
    {
     "name": "stdout",
     "output_type": "stream",
     "text": [
      "lter : 0, Loss : 0.8460\n",
      "lter : 5000, Loss : 0.6847\n",
      "lter : 10000, Loss : 0.6610\n",
      "lter : 15000, Loss : 0.6153\n",
      "lter : 20000, Loss : 0.5722\n",
      "lter : 25000, Loss : 0.5432\n",
      "lter : 30000, Loss : 0.5211\n",
      "lter : 35000, Loss : 0.4910\n",
      "lter : 40000, Loss : 0.4416\n",
      "lter : 45000, Loss : 0.3312\n",
      "Testset Accuracy : 1.0000\n"
     ]
    }
   ],
   "source": [
    "# 실행\n",
    "\n",
    "EPOCHS = 50000\n",
    "\n",
    "for step in range(EPOCHS):\n",
    "    for features, labels in tfe.Iterator(dataset):\n",
    "        features, labels = preprocess_data(features, labels)\n",
    "        grads = grad(neural_net(features), features, labels)\n",
    "        optimizer.apply_gradients(grads_and_vars=zip(grads,[W1,W2,W3,b1,b2,b3]))\n",
    "        if step % 5000 == 0:\n",
    "            print('lter : {}, Loss : {:.4f}'.format(step, loss_fn(neural_net(features),labels)))\n",
    "\n",
    "x_data, y_data = preprocess_data(x_data, y_data)\n",
    "test_acc = accuracy_fn(neural_net(x_data), y_data)\n",
    "print('Testset Accuracy : {:.4f}'.format(test_acc))"
   ]
  },
  {
   "cell_type": "code",
   "execution_count": null,
   "metadata": {},
   "outputs": [],
   "source": []
  }
 ],
 "metadata": {
  "kernelspec": {
   "display_name": "Python 3",
   "language": "python",
   "name": "python3"
  },
  "language_info": {
   "codemirror_mode": {
    "name": "ipython",
    "version": 3
   },
   "file_extension": ".py",
   "mimetype": "text/x-python",
   "name": "python",
   "nbconvert_exporter": "python",
   "pygments_lexer": "ipython3",
   "version": "3.6.8"
  }
 },
 "nbformat": 4,
 "nbformat_minor": 2
}
